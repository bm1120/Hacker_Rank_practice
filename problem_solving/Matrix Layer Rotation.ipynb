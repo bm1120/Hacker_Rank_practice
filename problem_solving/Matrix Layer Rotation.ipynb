{
 "cells": [
  {
   "cell_type": "code",
   "execution_count": 1,
   "metadata": {},
   "outputs": [],
   "source": [
    "input1=\"4 4 2\"\n",
    "input2=\"1 2 3 4\"\n",
    "input3=\"5 6 7 8\"\n",
    "input4=\"9 10 11 12\"\n",
    "input5=\"13 14 15 16\"\n",
    "\n",
    "def str2list(strings):\n",
    "    return [int(i) for i in strings.split(' ')]\n",
    "sizen=str2list(input1)\n",
    "mat1=str2list(input2)\n",
    "mat2=str2list(input3)\n",
    "mat3=str2list(input4)\n",
    "mat4=str2list(input5)\n",
    "total_mat=[mat1,mat2,mat3,mat4]"
   ]
  },
  {
   "cell_type": "code",
   "execution_count": 21,
   "metadata": {},
   "outputs": [
    {
     "name": "stdout",
     "output_type": "stream",
     "text": [
      "[[0, 0], [0, 1], [0, 2], [0, 3], [1, 3], [2, 3], [3, 3], [4, 3], [4, 2], [4, 1], [4, 0], [3, 0], [2, 0], [1, 0]] [[0, 2], [0, 3], [1, 3], [2, 3], [3, 3], [4, 3], [4, 2], [4, 1], [4, 0], [3, 0], [2, 0], [1, 0], [0, 0], [0, 1]]\n",
      "[[1, 1], [1, 2], [2, 2], [3, 2], [3, 1], [2, 1]] [[2, 2], [3, 2], [3, 1], [2, 1], [1, 1], [1, 2]]\n"
     ]
    },
    {
     "data": {
      "text/plain": [
       "[[3, 4, 10, 16],\n",
       " [2, 15, 21, 22],\n",
       " [1, 9, 20, 28],\n",
       " [7, 8, 14, 27],\n",
       " [13, 19, 25, 26]]"
      ]
     },
     "execution_count": 21,
     "metadata": {},
     "output_type": "execute_result"
    }
   ],
   "source": [
    "\n",
    "def mat_index(row_n,col_n):\n",
    "    return [[i,j] for i in range(row_n) for j in range(col_n)]\n",
    "\n",
    "def mat_line(matindex,row_n,col_n,line_n):\n",
    "    matline =[[0+line_n,i+line_n] for i in range(col_n-1)]+\\\n",
    "    [[i+line_n,col_n-1+line_n] for i in range(row_n-1)]+\\\n",
    "    [[row_n-1+line_n,col_n-1-i+line_n] for i in range(col_n-1)]+\\\n",
    "    [[row_n-1-i+line_n,0+line_n] for i in range(row_n-1)]\n",
    "    return matline\n",
    "\n",
    "def rot_matline(matline, rot_n):\n",
    "    return [matline[i+rot_n] for i in range(len(matline)-rot_n)]+\\\n",
    "[matline[i] for i in range(rot_n)]\n",
    "\n",
    "def rot_mat(inputmat,rot_n):\n",
    "    mat_lines = []\n",
    "    [row_n, col_n] = [len(inputmat), len(inputmat[0])]\n",
    "    line_n=0\n",
    "    out_mat=[[0]*col_n for i in range(row_n)]\n",
    "    matindex=mat_index(row_n, col_n)\n",
    "    while (row_n>0)&(col_n>0):\n",
    "        mat_lines.append(mat_line(matindex,row_n,col_n,line_n))\n",
    "        row_n, col_n=row_n-2,col_n-2\n",
    "        line_n=line_n+1\n",
    "    ans_matline=[rot_matline(i,rot_n) for i in mat_lines if len(i)>=rot_n]+\\\n",
    "[rot_matline(i,rot_n%len(i)) for i in mat_lines if len(i)<rot_n]\n",
    "    for i,j in zip(mat_lines,ans_matline):\n",
    "        print(i,j)\n",
    "        for k in range(len(i)):\n",
    "            out_mat[i[k][0]][i[k][1]]=inputmat[j[k][0]][j[k][1]]\n",
    "    return out_mat\n",
    "rot_mat(total_mat,2)"
   ]
  },
  {
   "cell_type": "code",
   "execution_count": 4,
   "metadata": {},
   "outputs": [],
   "source": [
    "input1='5 4 7'\n",
    "input2='1 2 3 4'\n",
    "input3='7 8 9 10'\n",
    "input4='13 14 15 16'\n",
    "input5='19 20 21 22'\n",
    "input6='25 26 27 28'\n",
    "def str2list(strings):\n",
    "    return [int(i) for i in strings.split(' ')]\n",
    "sizen=str2list(input1)\n",
    "mat1=str2list(input2)\n",
    "mat2=str2list(input3)\n",
    "mat3=str2list(input4)\n",
    "mat4=str2list(input5)\n",
    "mat5=str2list(input6)\n",
    "total_mat=[mat1,mat2,mat3,mat4,mat5]"
   ]
  },
  {
   "cell_type": "code",
   "execution_count": 20,
   "metadata": {},
   "outputs": [
    {
     "data": {
      "text/plain": [
       "[[[4, 3],\n",
       "  [4, 2],\n",
       "  [4, 1],\n",
       "  [4, 0],\n",
       "  [3, 0],\n",
       "  [2, 0],\n",
       "  [1, 0],\n",
       "  [0, 0],\n",
       "  [0, 1],\n",
       "  [0, 2],\n",
       "  [0, 3],\n",
       "  [1, 3],\n",
       "  [2, 3],\n",
       "  [3, 3]],\n",
       " [[1, 2], [2, 2], [3, 2], [3, 1], [2, 1], [1, 1]]]"
      ]
     },
     "execution_count": 20,
     "metadata": {},
     "output_type": "execute_result"
    }
   ],
   "source": [
    "inputmat=total_mat\n",
    "rot_n=7\n",
    "mat_lines = []\n",
    "[row_n, col_n] = [len(inputmat), len(inputmat[0])]\n",
    "line_n=0\n",
    "out_mat=[[0]*col_n for i in range(row_n)]\n",
    "matindex=mat_index(row_n, col_n)\n",
    "while (row_n>0)&(col_n>0):\n",
    "    mat_lines.append(mat_line(matindex,row_n,col_n,line_n))\n",
    "    row_n, col_n=row_n-2,col_n-2\n",
    "    line_n=line_n+1\n",
    "ans_matline=[rot_matline(i,rot_n) for i in mat_lines if len(i)>=rot_n]+\\\n",
    "[rot_matline(i,rot_n%len(i)) for i in mat_lines if len(i)<rot_n]\n",
    "ans_matline"
   ]
  },
  {
   "cell_type": "code",
   "execution_count": null,
   "metadata": {},
   "outputs": [],
   "source": [
    "#!/bin/python3\n",
    "\n",
    "import math\n",
    "import os\n",
    "import random\n",
    "import re\n",
    "import sys\n",
    "\n",
    "# Complete the matrixRotation function below.\n",
    "def mat_index(row_n,col_n):\n",
    "    return [[i,j] for i in range(row_n) for j in range(col_n)]\n",
    "\n",
    "def mat_line(matindex,row_n,col_n,line_n):\n",
    "    matline =[[0+line_n,i+line_n] for i in range(col_n-1)]+\\\n",
    "    [[i+line_n,col_n-1+line_n] for i in range(row_n-1)]+\\\n",
    "    [[row_n-1+line_n,col_n-1-i+line_n] for i in range(col_n-1)]+\\\n",
    "    [[row_n-1-i+line_n,0+line_n] for i in range(row_n-1)]\n",
    "    return matline\n",
    "\n",
    "def rot_matline(matline, rot_n):\n",
    "    if rot_n>len(matline):\n",
    "        inr=rot_n%len(matline)\n",
    "    else:\n",
    "        inr=rot_n\n",
    "    return [matline[i+inr] for i in range(len(matline)-inr)]+\\\n",
    "[matline[i] for i in range(inr)]\n",
    "\n",
    "def matrixRotation(matrix, r):\n",
    "    mat_lines = []\n",
    "    [row_n, col_n] = [len(matrix), len(matrix[0])]\n",
    "    line_n=0\n",
    "    out_mat=[[0]*col_n for i in range(row_n)]\n",
    "    matindex=mat_index(row_n, col_n)\n",
    "    while (row_n>0)&(col_n>0):\n",
    "        mat_lines.append(mat_line(matindex,row_n,col_n,line_n))\n",
    "        row_n, col_n=row_n-2,col_n-2\n",
    "        line_n=line_n+1\n",
    "    ans_matline=[rot_matline(i,rot_n) for i in mat_lines if len(i)>=r]+\\\n",
    "[rot_matline(i,r%len(i)) for i in mat_lines if len(i)<r]\n",
    "    for i,j in zip(mat_lines,ans_matline):\n",
    "        for k in range(len(i)):\n",
    "            out_mat[i[k][0]][i[k][1]]=matrix[j[k][0]][j[k][1]]\n",
    "    for i in out_mat:\n",
    "        out_str=str(i[0])\n",
    "        for j in i[1:]:\n",
    "            out_str=out_str+' '+str(j)\n",
    "        print(out_str)\n",
    "if __name__ == '__main__':\n",
    "    mnr = input().rstrip().split()\n",
    "\n",
    "    m = int(mnr[0])\n",
    "\n",
    "    n = int(mnr[1])\n",
    "\n",
    "    r = int(mnr[2])\n",
    "\n",
    "    matrix = []\n",
    "\n",
    "    for _ in range(m):\n",
    "        matrix.append(list(map(int, input().rstrip().split())))\n",
    "\n",
    "    matrixRotation(matrix, r)\n"
   ]
  }
 ],
 "metadata": {
  "kernelspec": {
   "display_name": "Python 3",
   "language": "python",
   "name": "python3"
  },
  "language_info": {
   "codemirror_mode": {
    "name": "ipython",
    "version": 3
   },
   "file_extension": ".py",
   "mimetype": "text/x-python",
   "name": "python",
   "nbconvert_exporter": "python",
   "pygments_lexer": "ipython3",
   "version": "3.7.3"
  }
 },
 "nbformat": 4,
 "nbformat_minor": 4
}
