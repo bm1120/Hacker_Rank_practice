{
 "cells": [
  {
   "cell_type": "code",
   "execution_count": 2,
   "metadata": {},
   "outputs": [
    {
     "data": {
      "text/plain": [
       "[[11, 2, 4], [4, 5, 6], [10, 8, -12]]"
      ]
     },
     "execution_count": 2,
     "metadata": {},
     "output_type": "execute_result"
    }
   ],
   "source": [
    "sample_n_str='3'\n",
    "sample_1_str='11 2 4'\n",
    "sample_2_str='4 5 6'\n",
    "sample_3_str='10 8 -12'\n",
    "sample_n=int(sample_n_str)\n",
    "sample_1=[int(i) for i in sample_1_str.split(' ')]\n",
    "sample_2=[int(i) for i in sample_2_str.split(' ')]\n",
    "sample_3=[int(i) for i in sample_3_str.split(' ')]\n",
    "samples=[sample_1,sample_2,sample_3]\n",
    "samples"
   ]
  },
  {
   "cell_type": "code",
   "execution_count": 4,
   "metadata": {},
   "outputs": [
    {
     "data": {
      "text/plain": [
       "15"
      ]
     },
     "execution_count": 4,
     "metadata": {},
     "output_type": "execute_result"
    }
   ],
   "source": [
    "def diagonalDifference(arr):\n",
    "    digR=0\n",
    "    digL=0\n",
    "    for i in range(len(arr)):\n",
    "        digR=digR+arr[i][i]\n",
    "        digL=digL+arr[i][len(arr)-1-i]\n",
    "    return abs(digR-digL)\n",
    "diagonalDifference(samples)"
   ]
  }
 ],
 "metadata": {
  "kernelspec": {
   "display_name": "Python 3",
   "language": "python",
   "name": "python3"
  },
  "language_info": {
   "codemirror_mode": {
    "name": "ipython",
    "version": 3
   },
   "file_extension": ".py",
   "mimetype": "text/x-python",
   "name": "python",
   "nbconvert_exporter": "python",
   "pygments_lexer": "ipython3",
   "version": "3.7.3"
  }
 },
 "nbformat": 4,
 "nbformat_minor": 4
}
