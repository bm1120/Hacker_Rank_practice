{
 "cells": [
  {
   "cell_type": "code",
   "execution_count": 10,
   "metadata": {},
   "outputs": [
    {
     "name": "stdout",
     "output_type": "stream",
     "text": [
      "0.5\n",
      "0.3333333333333333\n",
      "0.16666666666666666\n"
     ]
    }
   ],
   "source": [
    "sample_n_str='6'\n",
    "sample_str='-4 3 -9 0 4 1'\n",
    "sample_n=int(sample_n_str)\n",
    "samples=[int(i) for i in sample_str.split(' ')]\n",
    "def plusMinus(arr):\n",
    "    pzm=[sum([i>0 for i in arr])/len(arr),\n",
    "    sum([i<0 for i in arr])/len(arr),sum([i==0 for i in arr])/len(arr)]\n",
    "    for i in pzm:\n",
    "        print(round(i,6))\n",
    "plusMinus(samples)"
   ]
  }
 ],
 "metadata": {
  "kernelspec": {
   "display_name": "Python 3",
   "language": "python",
   "name": "python3"
  },
  "language_info": {
   "codemirror_mode": {
    "name": "ipython",
    "version": 3
   },
   "file_extension": ".py",
   "mimetype": "text/x-python",
   "name": "python",
   "nbconvert_exporter": "python",
   "pygments_lexer": "ipython3",
   "version": "3.7.3"
  }
 },
 "nbformat": 4,
 "nbformat_minor": 4
}
