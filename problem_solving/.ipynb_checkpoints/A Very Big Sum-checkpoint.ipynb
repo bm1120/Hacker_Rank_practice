{
 "cells": [
  {
   "cell_type": "code",
   "execution_count": 21,
   "metadata": {},
   "outputs": [
    {
     "data": {
      "text/plain": [
       "5000000015"
      ]
     },
     "execution_count": 21,
     "metadata": {},
     "output_type": "execute_result"
    }
   ],
   "source": [
    "sample_n_str='5'\n",
    "samples_str='1000000001 1000000002 1000000003 1000000004 1000000005'\n",
    "sample_n=int(sample_n_str)\n",
    "samples=[i for i in samples_str.split(' ')]\n",
    "def listise(num):\n",
    "    str_num=str(num)\n",
    "    return [int(str_num[i]) for i in range(len(str_num)-1,-1,-1)]\n",
    "\n",
    "def listsum(arrays):\n",
    "    ans=[0 for i in range(10)]\n",
    "    for i in range(10):\n",
    "        ansi=0\n",
    "        try:\n",
    "            for j in range(len(arrays)):\n",
    "                ansi=ansi+arrays[j][i]\n",
    "        except:\n",
    "            continue\n",
    "        ans[i]=ansi\n",
    "    return ans\n",
    "def toNum(inlist):\n",
    "    ans=0\n",
    "    for i in range(len(inlist)):\n",
    "        ans=ans+inlist[i]*10**i\n",
    "    return ans\n",
    "        \n",
    "samples_list=[listise(i) for i in samples]\n",
    "toNum(listsum(samples_list))"
   ]
  }
 ],
 "metadata": {
  "kernelspec": {
   "display_name": "Python 3",
   "language": "python",
   "name": "python3"
  },
  "language_info": {
   "codemirror_mode": {
    "name": "ipython",
    "version": 3
   },
   "file_extension": ".py",
   "mimetype": "text/x-python",
   "name": "python",
   "nbconvert_exporter": "python",
   "pygments_lexer": "ipython3",
   "version": "3.7.3"
  }
 },
 "nbformat": 4,
 "nbformat_minor": 4
}
