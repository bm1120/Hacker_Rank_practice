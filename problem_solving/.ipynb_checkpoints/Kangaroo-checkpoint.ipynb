{
 "cells": [
  {
   "cell_type": "code",
   "execution_count": 6,
   "metadata": {},
   "outputs": [
    {
     "name": "stdout",
     "output_type": "stream",
     "text": [
      "YES\n"
     ]
    }
   ],
   "source": [
    "input1='0 3 4 2'\n",
    "samples=[int(i) for i in input1.split(' ')]\n",
    "\n",
    "x1=samples[0]\n",
    "v1=samples[1]\n",
    "x2=samples[2]\n",
    "v2=samples[3]\n",
    "\n",
    "if v2>=v1:\n",
    "    print('NO')\n",
    "elif (x2-x1)%(v1-v2)==0:\n",
    "    print('YES')\n",
    "else:\n",
    "    print('NO')"
   ]
  },
  {
   "cell_type": "code",
   "execution_count": null,
   "metadata": {},
   "outputs": [],
   "source": [
    "#!/bin/python3\n",
    "\n",
    "import math\n",
    "import os\n",
    "import random\n",
    "import re\n",
    "import sys\n",
    "\n",
    "# Complete the kangaroo function below.\n",
    "def kangaroo(x1, v1, x2, v2):\n",
    "    if v2>=v1:\n",
    "        return 'NO'\n",
    "    elif (x2-x1)%(v1-v2)==0:\n",
    "        return 'YES'\n",
    "    else:\n",
    "        return 'NO'\n",
    "\n",
    "if __name__ == '__main__':\n",
    "    fptr = open(os.environ['OUTPUT_PATH'], 'w')\n",
    "\n",
    "    x1V1X2V2 = input().split()\n",
    "\n",
    "    x1 = int(x1V1X2V2[0])\n",
    "\n",
    "    v1 = int(x1V1X2V2[1])\n",
    "\n",
    "    x2 = int(x1V1X2V2[2])\n",
    "\n",
    "    v2 = int(x1V1X2V2[3])\n",
    "\n",
    "    result = kangaroo(x1, v1, x2, v2)\n",
    "\n",
    "    fptr.write(result + '\\n')\n",
    "\n",
    "    fptr.close()\n"
   ]
  }
 ],
 "metadata": {
  "kernelspec": {
   "display_name": "Python 3",
   "language": "python",
   "name": "python3"
  },
  "language_info": {
   "codemirror_mode": {
    "name": "ipython",
    "version": 3
   },
   "file_extension": ".py",
   "mimetype": "text/x-python",
   "name": "python",
   "nbconvert_exporter": "python",
   "pygments_lexer": "ipython3",
   "version": "3.7.3"
  }
 },
 "nbformat": 4,
 "nbformat_minor": 4
}
