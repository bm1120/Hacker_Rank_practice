{
 "cells": [
  {
   "cell_type": "code",
   "execution_count": 3,
   "metadata": {},
   "outputs": [
    {
     "data": {
      "text/plain": [
       "'19:05:45'"
      ]
     },
     "execution_count": 3,
     "metadata": {},
     "output_type": "execute_result"
    }
   ],
   "source": [
    "sample_input='07:05:45PM'\n",
    "def tostr2(i):\n",
    "    if i<10:\n",
    "        return '0'+str(i)\n",
    "    else:\n",
    "        return str(i)\n",
    "def to24hour(str_time):\n",
    "    if str_time[-2:]=='AM':\n",
    "        str_head=tostr2(int(str_time[:2])%12)\n",
    "    else:\n",
    "        str_head=str(int(str_time[:2])%12+12)\n",
    "    return str_head+str_time[2:-2]\n",
    "to24hour(sample_input)"
   ]
  },
  {
   "cell_type": "code",
   "execution_count": null,
   "metadata": {},
   "outputs": [],
   "source": [
    "#!/bin/python3\n",
    "\n",
    "import os\n",
    "import sys\n",
    "\n",
    "#\n",
    "# Complete the timeConversion function below.\n",
    "#\n",
    "def tostr2(i):\n",
    "    if i<10:\n",
    "        return '0'+str(i)\n",
    "    else:\n",
    "        return str(i)\n",
    "\n",
    "def timeConversion(s):\n",
    "    #\n",
    "    # Write your code here.\n",
    "    #\n",
    "    if s[-2:]=='AM':\n",
    "        str_head=tostr2(int(s[:2])%12)\n",
    "    else:\n",
    "        str_head=str(int(s[:2])%12+12)\n",
    "    return str_head+s[2:-2]\n",
    "\n",
    "if __name__ == '__main__':\n",
    "    f = open(os.environ['OUTPUT_PATH'], 'w')\n",
    "\n",
    "    s = input()\n",
    "\n",
    "    result = timeConversion(s)\n",
    "\n",
    "    f.write(result + '\\n')\n",
    "\n",
    "    f.close()\n"
   ]
  }
 ],
 "metadata": {
  "kernelspec": {
   "display_name": "Python 3",
   "language": "python",
   "name": "python3"
  },
  "language_info": {
   "codemirror_mode": {
    "name": "ipython",
    "version": 3
   },
   "file_extension": ".py",
   "mimetype": "text/x-python",
   "name": "python",
   "nbconvert_exporter": "python",
   "pygments_lexer": "ipython3",
   "version": "3.7.3"
  }
 },
 "nbformat": 4,
 "nbformat_minor": 4
}
