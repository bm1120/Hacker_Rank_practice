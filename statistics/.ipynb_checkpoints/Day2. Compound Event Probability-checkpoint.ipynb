{
 "cells": [
  {
   "cell_type": "code",
   "execution_count": 15,
   "metadata": {},
   "outputs": [
    {
     "name": "stdout",
     "output_type": "stream",
     "text": [
      "(17, 42)\n"
     ]
    }
   ],
   "source": [
    "def gcd(A,B):\n",
    "    sortdata=sorted([A,B])\n",
    "    if sortdata[0]==0:\n",
    "        return sortdata[1]\n",
    "    else:\n",
    "        return gcd(sortdata[0],sortdata[1]%sortdata[0])\n",
    "        \n",
    "def toFractional(A,B):\n",
    "    gcd_AB=gcd(A,B)\n",
    "    return round(A/gcd_AB), round(B/gcd_AB)\n",
    "\n",
    "class urn:\n",
    "    def __init__(self,reds,blacks):\n",
    "        self.balls=['R' for i in range(reds)]+['B' for i in range(blacks)]\n",
    "X=urn(4,3)\n",
    "Y=urn(5,4)\n",
    "Z=urn(4,4)\n",
    "def countBall(balls):\n",
    "    return balls.count('R'), balls.count('B')\n",
    "total_events=[[i,j,k] for i in X.balls for j in Y.balls for k in Z.balls]\n",
    "ans_events=[i for i in total_events if countBall(i)[0]==2]\n",
    "print(toFractional(len(ans_events),len(total_events)))"
   ]
  }
 ],
 "metadata": {
  "kernelspec": {
   "display_name": "Python 3",
   "language": "python",
   "name": "python3"
  },
  "language_info": {
   "codemirror_mode": {
    "name": "ipython",
    "version": 3
   },
   "file_extension": ".py",
   "mimetype": "text/x-python",
   "name": "python",
   "nbconvert_exporter": "python",
   "pygments_lexer": "ipython3",
   "version": "3.7.3"
  }
 },
 "nbformat": 4,
 "nbformat_minor": 4
}
