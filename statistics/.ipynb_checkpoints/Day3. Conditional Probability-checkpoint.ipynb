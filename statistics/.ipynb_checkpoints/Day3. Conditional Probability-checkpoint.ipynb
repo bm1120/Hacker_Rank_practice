{
 "cells": [
  {
   "cell_type": "code",
   "execution_count": 7,
   "metadata": {},
   "outputs": [
    {
     "name": "stdout",
     "output_type": "stream",
     "text": [
      "1 3\n"
     ]
    }
   ],
   "source": [
    "child_candi=['S','D']\n",
    "children_candi=[[i,j] for i in child_candi for j in child_candi]\n",
    "children_candi_min1son=[i for i in children_candi if i.count('S')>=1]\n",
    "children_candi_2son=[i for i in children_candi if i.count('S')==2]\n",
    "print(len(children_candi_2son),len(children_candi_min1son))\n"
   ]
  }
 ],
 "metadata": {
  "kernelspec": {
   "display_name": "Python 3",
   "language": "python",
   "name": "python3"
  },
  "language_info": {
   "codemirror_mode": {
    "name": "ipython",
    "version": 3
   },
   "file_extension": ".py",
   "mimetype": "text/x-python",
   "name": "python",
   "nbconvert_exporter": "python",
   "pygments_lexer": "ipython3",
   "version": "3.7.3"
  }
 },
 "nbformat": 4,
 "nbformat_minor": 4
}
