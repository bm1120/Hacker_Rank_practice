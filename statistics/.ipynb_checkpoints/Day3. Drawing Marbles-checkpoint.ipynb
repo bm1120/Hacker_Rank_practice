{
 "cells": [
  {
   "cell_type": "code",
   "execution_count": 7,
   "metadata": {},
   "outputs": [],
   "source": [
    "import random"
   ]
  },
  {
   "cell_type": "code",
   "execution_count": 25,
   "metadata": {},
   "outputs": [
    {
     "name": "stdout",
     "output_type": "stream",
     "text": [
      "R\n"
     ]
    }
   ],
   "source": [
    "class bags:\n",
    "    ball=['R','B']\n",
    "    def __init__(self, R, B):\n",
    "        self.balls=['R' for i in range(R)]+['B' for i in range(B)]\n",
    "    def drawball(self, RB):\n",
    "        self.balls.pop(self.balls.index(RB))\n",
    "    def drawRandom(self):\n",
    "        random_n=random.randint(1,len(self.balls))\n",
    "        print(self.balls[random_n])\n",
    "        self.balls.pop(random_n)\n",
    "sample=bags(3,4)\n",
    "sample.drawball('R')\n",
    "sample.drawRandom()"
   ]
  }
 ],
 "metadata": {
  "kernelspec": {
   "display_name": "Python 3",
   "language": "python",
   "name": "python3"
  },
  "language_info": {
   "codemirror_mode": {
    "name": "ipython",
    "version": 3
   },
   "file_extension": ".py",
   "mimetype": "text/x-python",
   "name": "python",
   "nbconvert_exporter": "python",
   "pygments_lexer": "ipython3",
   "version": "3.7.3"
  }
 },
 "nbformat": 4,
 "nbformat_minor": 4
}
