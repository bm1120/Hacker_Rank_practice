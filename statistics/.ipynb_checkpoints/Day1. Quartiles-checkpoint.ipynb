{
 "cells": [
  {
   "cell_type": "code",
   "execution_count": 1,
   "metadata": {},
   "outputs": [
    {
     "name": "stdout",
     "output_type": "stream",
     "text": [
      "9\n",
      "3 7 8 5 12 14 21 13 18\n",
      "6\n",
      "12\n",
      "16\n"
     ]
    }
   ],
   "source": [
    "# Enter your code here. Read input from STDIN. Print output to STDOUT\n",
    "sample_n=input()\n",
    "X=input()\n",
    "X_data=[int(i) for i in X.split(\" \")]\n",
    "\n",
    "def cal_median(data):\n",
    "    sort_data=sorted(data)\n",
    "    if len(data)%2==0:\n",
    "        med=int((sort_data[int(len(data)/2)-1]+sort_data[int(len(data)/2)])/2)\n",
    "        l_half=sort_data[:int(len(data)/2)]\n",
    "        u_half=sort_data[int(len(data)/2):]\n",
    "    else:\n",
    "        med= sort_data[len(data)//2]\n",
    "        l_half=sort_data[:len(data)//2]\n",
    "        u_half=sort_data[len(data)//2+1:]\n",
    "    return med, l_half, u_half\n",
    "\n",
    "med, l_half, u_half=cal_median(X_data)\n",
    "l_med=cal_median(l_half)[0]\n",
    "u_med=cal_median(u_half)[0]\n",
    "print(l_med)\n",
    "print(med)\n",
    "print(u_med)"
   ]
  }
 ],
 "metadata": {
  "kernelspec": {
   "display_name": "Python 3",
   "language": "python",
   "name": "python3"
  },
  "language_info": {
   "codemirror_mode": {
    "name": "ipython",
    "version": 3
   },
   "file_extension": ".py",
   "mimetype": "text/x-python",
   "name": "python",
   "nbconvert_exporter": "python",
   "pygments_lexer": "ipython3",
   "version": "3.7.3"
  }
 },
 "nbformat": 4,
 "nbformat_minor": 4
}
