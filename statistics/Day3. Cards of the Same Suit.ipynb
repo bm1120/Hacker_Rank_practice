{
 "cells": [
  {
   "cell_type": "code",
   "execution_count": 7,
   "metadata": {},
   "outputs": [
    {
     "data": {
      "text/plain": [
       "(4, 17)"
      ]
     },
     "execution_count": 7,
     "metadata": {},
     "output_type": "execute_result"
    }
   ],
   "source": [
    "suit=['H','C','S','D']\n",
    "number=list(range(1,14))\n",
    "cards=[[i,j] for i in suit for j in number]\n",
    "pairs=[[i,j] for i in cards for j in cards if i!=j]\n",
    "ans_pairs=[i for i in pairs if i[0][0]==i[1][0]]\n",
    "\n",
    "def gcd(A,B):\n",
    "    sortdata=sorted([A,B])\n",
    "    if sortdata[0]==0:\n",
    "        return sortdata[1]\n",
    "    else:\n",
    "        return gcd(sortdata[0],sortdata[1]%sortdata[0])\n",
    "        \n",
    "def toFractional(A,B):\n",
    "    gcd_AB=gcd(A,B)\n",
    "    return round(A/gcd_AB), round(B/gcd_AB)\n",
    "\n",
    "toFractional(len(ans_pairs),len(pairs))"
   ]
  }
 ],
 "metadata": {
  "kernelspec": {
   "display_name": "Python 3",
   "language": "python",
   "name": "python3"
  },
  "language_info": {
   "codemirror_mode": {
    "name": "ipython",
    "version": 3
   },
   "file_extension": ".py",
   "mimetype": "text/x-python",
   "name": "python",
   "nbconvert_exporter": "python",
   "pygments_lexer": "ipython3",
   "version": "3.7.3"
  }
 },
 "nbformat": 4,
 "nbformat_minor": 4
}
