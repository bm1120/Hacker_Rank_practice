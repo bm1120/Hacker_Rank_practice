{
 "cells": [
  {
   "cell_type": "markdown",
   "metadata": {},
   "source": [
    "### Sample input\n",
    "<br>6\n",
    "<br>6 12 8 10 20 16\n",
    "<br>5 4 3 2 1 5"
   ]
  },
  {
   "cell_type": "code",
   "execution_count": null,
   "metadata": {},
   "outputs": [],
   "source": [
    "sample_n = input()\n",
    "values = [int(i) fot i in input().split(' ')]\n",
    "freq = [int(i) fot i in input().split(' ')]\n",
    "samples=[]\n",
    "for i,j in zip(values,freq):\n",
    "    for k in range(j):\n",
    "        samples.append(i)\n",
    "\n",
    "def cal_median(data):\n",
    "    sort_data=sorted(data)\n",
    "    if len(data)%2==0:\n",
    "        med=int((sort_data[int(len(data)/2)-1]+sort_data[int(len(data)/2)])/2)\n",
    "        l_half=sort_data[:int(len(data)/2)]\n",
    "        u_half=sort_data[int(len(data)/2):]\n",
    "    else:\n",
    "        med= sort_data[len(data)//2]\n",
    "        l_half=sort_data[:len(data)//2]\n",
    "        u_half=sort_data[len(data)//2+1:]\n",
    "    return med, l_half, u_half\n",
    "\n",
    "_,l_half,u_half=cal_median(samples)\n",
    "print(round(float(cal_median(u_half)[0]-cal_median(l_half)[0]),1))"
   ]
  },
  {
   "cell_type": "code",
   "execution_count": 11,
   "metadata": {},
   "outputs": [
    {
     "name": "stdout",
     "output_type": "stream",
     "text": [
      "9.0\n"
     ]
    }
   ],
   "source": [
    "values_str='6 12 8 10 20 16'\n",
    "freq_str=\"5 4 3 2 1 5\"\n",
    "values = [int(i) for i in values_str.split(' ')]\n",
    "freq = [int(i) for i in freq_str.split(' ')]\n",
    "\n",
    "samples=[]\n",
    "for i,j in zip(values,freq):\n",
    "    for k in range(j):\n",
    "        samples.append(i)\n",
    "\n",
    "def cal_median(data):\n",
    "    sort_data=sorted(data)\n",
    "    if len(data)%2==0:\n",
    "        med=int((sort_data[int(len(data)/2)-1]+sort_data[int(len(data)/2)])/2)\n",
    "        l_half=sort_data[:int(len(data)/2)]\n",
    "        u_half=sort_data[int(len(data)/2):]\n",
    "    else:\n",
    "        med= sort_data[len(data)//2]\n",
    "        l_half=sort_data[:len(data)//2]\n",
    "        u_half=sort_data[len(data)//2+1:]\n",
    "    return med, l_half, u_half\n",
    "\n",
    "_,l_half,u_half=cal_median(samples)\n",
    "print(round(float(cal_median(u_half)[0]-cal_median(l_half)[0]),1))\n",
    "    "
   ]
  }
 ],
 "metadata": {
  "kernelspec": {
   "display_name": "Python 3",
   "language": "python",
   "name": "python3"
  },
  "language_info": {
   "codemirror_mode": {
    "name": "ipython",
    "version": 3
   },
   "file_extension": ".py",
   "mimetype": "text/x-python",
   "name": "python",
   "nbconvert_exporter": "python",
   "pygments_lexer": "ipython3",
   "version": "3.7.3"
  }
 },
 "nbformat": 4,
 "nbformat_minor": 4
}
