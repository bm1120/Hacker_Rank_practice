{
 "cells": [
  {
   "cell_type": "code",
   "execution_count": 17,
   "metadata": {},
   "outputs": [
    {
     "name": "stdout",
     "output_type": "stream",
     "text": [
      "(5, 6)\n"
     ]
    }
   ],
   "source": [
    "class dice():\n",
    "    values=list(range(1,7))\n",
    "\n",
    "A=dice()\n",
    "B=dice()\n",
    "\n",
    "total_list=[[i,j] for i in A.values for j in B.values]\n",
    "ans_list=[[i,j] for i in A.values for j in B.values if i+j<=9]\n",
    "def gcd(A,B):\n",
    "    sortdata=sorted([A,B])\n",
    "    if sortdata[0]==0:\n",
    "        return sortdata[1]\n",
    "    else:\n",
    "        return gcd(sortdata[0],sortdata[1]%sortdata[0])\n",
    "        \n",
    "def toFractional(A,B):\n",
    "    gcd_AB=gcd(A,B)\n",
    "    return round(A/gcd_AB), round(B/gcd_AB)\n",
    "    \n",
    "print(toFractional(len(ans_list),len(total_list)))"
   ]
  }
 ],
 "metadata": {
  "kernelspec": {
   "display_name": "Python 3",
   "language": "python",
   "name": "python3"
  },
  "language_info": {
   "codemirror_mode": {
    "name": "ipython",
    "version": 3
   },
   "file_extension": ".py",
   "mimetype": "text/x-python",
   "name": "python",
   "nbconvert_exporter": "python",
   "pygments_lexer": "ipython3",
   "version": "3.7.3"
  }
 },
 "nbformat": 4,
 "nbformat_minor": 4
}
