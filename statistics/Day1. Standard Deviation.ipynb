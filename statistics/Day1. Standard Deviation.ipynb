{
 "cells": [
  {
   "cell_type": "markdown",
   "metadata": {},
   "source": [
    "sample_n=5  <br>samples = [10 40 30 50 20]"
   ]
  },
  {
   "cell_type": "code",
   "execution_count": 12,
   "metadata": {},
   "outputs": [
    {
     "name": "stdout",
     "output_type": "stream",
     "text": [
      "5\n",
      "10 40 30 50 20\n",
      "14.1\n"
     ]
    }
   ],
   "source": [
    "sample_n= input()\n",
    "samples = [int(i) for i in input().split(' ')]\n",
    "\n",
    "def cal_mean(data):\n",
    "    return sum(data)/len(data)\n",
    "def cal_sd(data):\n",
    "    d2_data=[(i-cal_mean(data))**2 for i in data]\n",
    "    var_data=cal_mean(d2_data)\n",
    "    sd_data=var_data**(1/2)\n",
    "    return sd_data\n",
    "print(round(cal_sd(samples),1))"
   ]
  }
 ],
 "metadata": {
  "kernelspec": {
   "display_name": "Python 3",
   "language": "python",
   "name": "python3"
  },
  "language_info": {
   "codemirror_mode": {
    "name": "ipython",
    "version": 3
   },
   "file_extension": ".py",
   "mimetype": "text/x-python",
   "name": "python",
   "nbconvert_exporter": "python",
   "pygments_lexer": "ipython3",
   "version": "3.7.3"
  }
 },
 "nbformat": 4,
 "nbformat_minor": 4
}
